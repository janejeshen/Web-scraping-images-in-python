{
 "cells": [
  {
   "cell_type": "code",
   "execution_count": 1,
   "metadata": {},
   "outputs": [],
   "source": [
    "import requests\n",
    "from bs4 import BeautifulSoup\n",
    "import pandas as pd\n",
    "import os"
   ]
  },
  {
   "cell_type": "code",
   "execution_count": 2,
   "metadata": {},
   "outputs": [
    {
     "name": "stdout",
     "output_type": "stream",
     "text": [
      "Images downloaded successfully and saved in 'downloaded_images' directory.\n"
     ]
    }
   ],
   "source": [
    "\n",
    "# Base URL template with a placeholder for the page number\n",
    "base_url = \"https://books.toscrape.com/catalogue/category/books_1/page-{}.html\"\n",
    "\n",
    "# Base URL for the website\n",
    "base_website_url = \"https://books.toscrape.com/\"\n",
    "\n",
    "# Directory to save images\n",
    "image_directory = \"downloaded_images\"\n",
    "\n",
    "# Create the directory if it doesn't exist\n",
    "if not os.path.exists(image_directory):\n",
    "    os.makedirs(image_directory)\n",
    "\n",
    "# Looping through the pages\n",
    "for page_no in range(1, 2):  \n",
    "\n",
    "    # Formatting URL for each page\n",
    "    url = base_url.format(page_no)\n",
    "\n",
    "    # Sending a request to get page contents\n",
    "    response = requests.get(url)\n",
    "\n",
    "    if response.status_code != 200:\n",
    "        print(f'Failed to fetch {page_no}')\n",
    "        continue\n",
    "\n",
    "    # Parsing the response\n",
    "    data = BeautifulSoup(response.text, 'html.parser')\n",
    "\n",
    "    # Finding all image tags\n",
    "    images = data.find_all('img', src=True)\n",
    "\n",
    "    # Selecting the src tag only\n",
    "    image_src = [x['src'] for x in images]\n",
    "\n",
    "    # Selecting jpg images\n",
    "    image_src = [x for x in image_src if x.endswith('.jpg')]\n",
    "\n",
    "    img_count = 1\n",
    "\n",
    "    for image in image_src:\n",
    "        # Constructing the full image URL\n",
    "        image_url = os.path.join(base_website_url, image.lstrip('/'))\n",
    "\n",
    "        # Downloading the image\n",
    "        response = requests.get(image_url)\n",
    "        \n",
    "        # Saving each image into the created directory\n",
    "        image_path = os.path.join(image_directory, 'image_' + str(img_count) + \".jpg\")\n",
    "        with open(image_path, 'wb') as f:\n",
    "            f.write(response.content)\n",
    "\n",
    "        img_count += 1\n",
    "\n",
    "print(f\"Images downloaded successfully and saved in '{image_directory}' directory.\")\n"
   ]
  }
 ],
 "metadata": {
  "kernelspec": {
   "display_name": "base",
   "language": "python",
   "name": "python3"
  },
  "language_info": {
   "codemirror_mode": {
    "name": "ipython",
    "version": 3
   },
   "file_extension": ".py",
   "mimetype": "text/x-python",
   "name": "python",
   "nbconvert_exporter": "python",
   "pygments_lexer": "ipython3",
   "version": "3.11.5"
  }
 },
 "nbformat": 4,
 "nbformat_minor": 2
}
